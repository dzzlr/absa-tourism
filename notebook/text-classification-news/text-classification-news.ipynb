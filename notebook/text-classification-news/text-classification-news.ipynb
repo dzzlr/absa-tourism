{
 "cells": [
  {
   "cell_type": "markdown",
   "id": "34a3f3ec-1ac8-478e-8129-f3c9ce2a8af9",
   "metadata": {},
   "source": [
    "# Load Dataset"
   ]
  },
  {
   "cell_type": "code",
   "execution_count": 2,
   "id": "c683679f-9524-4b4c-886d-10a1141dc1f4",
   "metadata": {},
   "outputs": [],
   "source": [
    "import re, string\n",
    "import pandas as pd\n",
    "from tqdm import tqdm\n",
    "import nltk\n",
    "\n",
    "tqdm.pandas()"
   ]
  },
  {
   "cell_type": "code",
   "execution_count": 3,
   "id": "7d5e1fd6-ce1f-4f5e-b788-839415677602",
   "metadata": {},
   "outputs": [],
   "source": [
    "df = pd.read_csv('../dataset/indonesian-news-title.csv')"
   ]
  },
  {
   "cell_type": "code",
   "execution_count": 4,
   "id": "4a7d36fa-669f-47fb-94b9-06b4e9824dae",
   "metadata": {},
   "outputs": [
    {
     "data": {
      "text/html": [
       "<div>\n",
       "<style scoped>\n",
       "    .dataframe tbody tr th:only-of-type {\n",
       "        vertical-align: middle;\n",
       "    }\n",
       "\n",
       "    .dataframe tbody tr th {\n",
       "        vertical-align: top;\n",
       "    }\n",
       "\n",
       "    .dataframe thead th {\n",
       "        text-align: right;\n",
       "    }\n",
       "</style>\n",
       "<table border=\"1\" class=\"dataframe\">\n",
       "  <thead>\n",
       "    <tr style=\"text-align: right;\">\n",
       "      <th></th>\n",
       "      <th>date</th>\n",
       "      <th>url</th>\n",
       "      <th>title</th>\n",
       "      <th>category</th>\n",
       "    </tr>\n",
       "  </thead>\n",
       "  <tbody>\n",
       "    <tr>\n",
       "      <th>0</th>\n",
       "      <td>02/26/2020</td>\n",
       "      <td>https://finance.detik.com/berita-ekonomi-bisni...</td>\n",
       "      <td>Kemnaker Awasi TKA di Meikarta</td>\n",
       "      <td>finance</td>\n",
       "    </tr>\n",
       "    <tr>\n",
       "      <th>1</th>\n",
       "      <td>02/26/2020</td>\n",
       "      <td>https://finance.detik.com/berita-ekonomi-bisni...</td>\n",
       "      <td>BNI Digitalkan BNI Java Jazz 2020</td>\n",
       "      <td>finance</td>\n",
       "    </tr>\n",
       "    <tr>\n",
       "      <th>2</th>\n",
       "      <td>02/26/2020</td>\n",
       "      <td>https://finance.detik.com/berita-ekonomi-bisni...</td>\n",
       "      <td>Terbang ke Australia, Edhy Prabowo Mau Genjot ...</td>\n",
       "      <td>finance</td>\n",
       "    </tr>\n",
       "    <tr>\n",
       "      <th>3</th>\n",
       "      <td>02/26/2020</td>\n",
       "      <td>https://finance.detik.com/moneter/d-4916133/oj...</td>\n",
       "      <td>OJK Siapkan Stimulus Ekonomi Antisipasi Dampak...</td>\n",
       "      <td>finance</td>\n",
       "    </tr>\n",
       "    <tr>\n",
       "      <th>4</th>\n",
       "      <td>02/26/2020</td>\n",
       "      <td>https://finance.detik.com/berita-ekonomi-bisni...</td>\n",
       "      <td>Saran Buat Anies-RK yang Mangkir Rapat Banjir ...</td>\n",
       "      <td>finance</td>\n",
       "    </tr>\n",
       "  </tbody>\n",
       "</table>\n",
       "</div>"
      ],
      "text/plain": [
       "         date                                                url  \\\n",
       "0  02/26/2020  https://finance.detik.com/berita-ekonomi-bisni...   \n",
       "1  02/26/2020  https://finance.detik.com/berita-ekonomi-bisni...   \n",
       "2  02/26/2020  https://finance.detik.com/berita-ekonomi-bisni...   \n",
       "3  02/26/2020  https://finance.detik.com/moneter/d-4916133/oj...   \n",
       "4  02/26/2020  https://finance.detik.com/berita-ekonomi-bisni...   \n",
       "\n",
       "                                               title category  \n",
       "0                     Kemnaker Awasi TKA di Meikarta  finance  \n",
       "1                  BNI Digitalkan BNI Java Jazz 2020  finance  \n",
       "2  Terbang ke Australia, Edhy Prabowo Mau Genjot ...  finance  \n",
       "3  OJK Siapkan Stimulus Ekonomi Antisipasi Dampak...  finance  \n",
       "4  Saran Buat Anies-RK yang Mangkir Rapat Banjir ...  finance  "
      ]
     },
     "execution_count": 4,
     "metadata": {},
     "output_type": "execute_result"
    }
   ],
   "source": [
    "df.head()"
   ]
  },
  {
   "cell_type": "markdown",
   "id": "7c4e658a-8b35-43ba-bcda-56b7e2b86bbf",
   "metadata": {},
   "source": [
    "## Analysis"
   ]
  },
  {
   "cell_type": "code",
   "execution_count": 5,
   "id": "78b01bc6-ded2-46e2-917f-73e6d94abd4b",
   "metadata": {},
   "outputs": [
    {
     "data": {
      "text/plain": [
       "news       32360\n",
       "hot        16330\n",
       "finance    14168\n",
       "travel      6466\n",
       "inet        5640\n",
       "health      4919\n",
       "oto         4383\n",
       "food        4315\n",
       "sport       2436\n",
       "Name: category, dtype: int64"
      ]
     },
     "execution_count": 5,
     "metadata": {},
     "output_type": "execute_result"
    }
   ],
   "source": [
    "# Total rows in each category\n",
    "df['category'].value_counts()"
   ]
  },
  {
   "cell_type": "code",
   "execution_count": 6,
   "id": "dd988a4f-2dfc-4efe-bfb6-d5ad4e16af0a",
   "metadata": {},
   "outputs": [
    {
     "data": {
      "text/plain": [
       "category\n",
       "finance     8.494001\n",
       "food       10.707068\n",
       "health      9.733889\n",
       "hot         9.100796\n",
       "inet        8.015071\n",
       "news       10.043850\n",
       "oto         8.791923\n",
       "sport       8.158046\n",
       "travel      8.131457\n",
       "Name: word_count, dtype: float64"
      ]
     },
     "execution_count": 6,
     "metadata": {},
     "output_type": "execute_result"
    }
   ],
   "source": [
    "# Get average words in each category\n",
    "df['word_count'] = df['title'].apply(lambda x: len(x.split()))\n",
    "df.groupby('category')['word_count'].mean()"
   ]
  },
  {
   "cell_type": "code",
   "execution_count": 7,
   "id": "5cf5dc7d-0e0a-4ceb-a089-ba373ea06e42",
   "metadata": {},
   "outputs": [
    {
     "data": {
      "text/plain": [
       "category\n",
       "finance    54.488354\n",
       "food       66.314253\n",
       "health     63.867249\n",
       "hot        59.409063\n",
       "inet       52.488830\n",
       "news       65.721508\n",
       "oto        57.179101\n",
       "sport      54.797619\n",
       "travel     53.277761\n",
       "Name: char_count, dtype: float64"
      ]
     },
     "execution_count": 7,
     "metadata": {},
     "output_type": "execute_result"
    }
   ],
   "source": [
    "# Get average characters in each category\n",
    "df['char_count'] = df['title'].apply(lambda x: len(str(x)))\n",
    "df.groupby('category')['char_count'].mean()"
   ]
  },
  {
   "cell_type": "code",
   "execution_count": 8,
   "id": "d54f84b7-ab7b-430e-b0c9-8291e3b23b0b",
   "metadata": {},
   "outputs": [
    {
     "data": {
      "text/html": [
       "<div>\n",
       "<style scoped>\n",
       "    .dataframe tbody tr th:only-of-type {\n",
       "        vertical-align: middle;\n",
       "    }\n",
       "\n",
       "    .dataframe tbody tr th {\n",
       "        vertical-align: top;\n",
       "    }\n",
       "\n",
       "    .dataframe thead th {\n",
       "        text-align: right;\n",
       "    }\n",
       "</style>\n",
       "<table border=\"1\" class=\"dataframe\">\n",
       "  <thead>\n",
       "    <tr style=\"text-align: right;\">\n",
       "      <th></th>\n",
       "      <th>date</th>\n",
       "      <th>url</th>\n",
       "      <th>title</th>\n",
       "      <th>category</th>\n",
       "      <th>word_count</th>\n",
       "      <th>char_count</th>\n",
       "    </tr>\n",
       "  </thead>\n",
       "  <tbody>\n",
       "    <tr>\n",
       "      <th>1906</th>\n",
       "      <td>04/17/2020</td>\n",
       "      <td>https://finance.detik.com/detiktv/d-4980330/bl...</td>\n",
       "      <td>Blak-blakan Kartu Pra Kerja dan 'Nepotisme' de...</td>\n",
       "      <td>finance</td>\n",
       "      <td>9</td>\n",
       "      <td>62</td>\n",
       "    </tr>\n",
       "    <tr>\n",
       "      <th>3299</th>\n",
       "      <td>04/20/2020</td>\n",
       "      <td>https://finance.detik.com/detiktv/d-4983283/me...</td>\n",
       "      <td>Menteri Perdagangan Buka Kartu Stok Sembako Sa...</td>\n",
       "      <td>finance</td>\n",
       "      <td>8</td>\n",
       "      <td>55</td>\n",
       "    </tr>\n",
       "    <tr>\n",
       "      <th>3732</th>\n",
       "      <td>03/09/2020</td>\n",
       "      <td>https://finance.detik.com/market-research/d-49...</td>\n",
       "      <td>IHSG Diperkirakan Melemah di Awal Pekan</td>\n",
       "      <td>finance</td>\n",
       "      <td>6</td>\n",
       "      <td>39</td>\n",
       "    </tr>\n",
       "    <tr>\n",
       "      <th>5613</th>\n",
       "      <td>03/11/2020</td>\n",
       "      <td>https://finance.detik.com/berita-ekonomi-bisni...</td>\n",
       "      <td>Harga Emas Antam Turun Rp 3.000</td>\n",
       "      <td>finance</td>\n",
       "      <td>6</td>\n",
       "      <td>31</td>\n",
       "    </tr>\n",
       "    <tr>\n",
       "      <th>5779</th>\n",
       "      <td>01/22/2020</td>\n",
       "      <td>https://finance.detik.com/fintech/d-4868943/lo...</td>\n",
       "      <td>Lokasi Kantor Jadi Syarat Pinjol Dapat Izin OJK</td>\n",
       "      <td>finance</td>\n",
       "      <td>8</td>\n",
       "      <td>47</td>\n",
       "    </tr>\n",
       "    <tr>\n",
       "      <th>...</th>\n",
       "      <td>...</td>\n",
       "      <td>...</td>\n",
       "      <td>...</td>\n",
       "      <td>...</td>\n",
       "      <td>...</td>\n",
       "      <td>...</td>\n",
       "    </tr>\n",
       "    <tr>\n",
       "      <th>89764</th>\n",
       "      <td>01/18/2020</td>\n",
       "      <td>https://travel.detik.com/fototravel/d-4864101/...</td>\n",
       "      <td>Aksi Para Penunggang Kuda Menerobos Kobaran Ap...</td>\n",
       "      <td>travel</td>\n",
       "      <td>9</td>\n",
       "      <td>58</td>\n",
       "    </tr>\n",
       "    <tr>\n",
       "      <th>89932</th>\n",
       "      <td>04/03/2020</td>\n",
       "      <td>https://travel.detik.com/travel-news/d-4963492...</td>\n",
       "      <td>Rasakan Kenyamanan Work From Hotel di Fraser R...</td>\n",
       "      <td>travel</td>\n",
       "      <td>9</td>\n",
       "      <td>62</td>\n",
       "    </tr>\n",
       "    <tr>\n",
       "      <th>90206</th>\n",
       "      <td>06/03/2020</td>\n",
       "      <td>https://travel.detik.com/travel-news/d-5039514...</td>\n",
       "      <td>New Normal, VW Cabrio Borobudur Siap Sambut Wi...</td>\n",
       "      <td>travel</td>\n",
       "      <td>8</td>\n",
       "      <td>53</td>\n",
       "    </tr>\n",
       "    <tr>\n",
       "      <th>90444</th>\n",
       "      <td>04/14/2020</td>\n",
       "      <td>https://travel.detik.com/fototravel/d-4977157/...</td>\n",
       "      <td>5 Negara yang Diprediksi Paling Cepat Bangkit ...</td>\n",
       "      <td>travel</td>\n",
       "      <td>9</td>\n",
       "      <td>57</td>\n",
       "    </tr>\n",
       "    <tr>\n",
       "      <th>90922</th>\n",
       "      <td>04/29/2020</td>\n",
       "      <td>https://travel.detik.com/galeri-foto/d-4995695...</td>\n",
       "      <td>Keindahan Musim Semi yang Dirundung Corona</td>\n",
       "      <td>travel</td>\n",
       "      <td>6</td>\n",
       "      <td>42</td>\n",
       "    </tr>\n",
       "  </tbody>\n",
       "</table>\n",
       "<p>126 rows × 6 columns</p>\n",
       "</div>"
      ],
      "text/plain": [
       "             date                                                url  \\\n",
       "1906   04/17/2020  https://finance.detik.com/detiktv/d-4980330/bl...   \n",
       "3299   04/20/2020  https://finance.detik.com/detiktv/d-4983283/me...   \n",
       "3732   03/09/2020  https://finance.detik.com/market-research/d-49...   \n",
       "5613   03/11/2020  https://finance.detik.com/berita-ekonomi-bisni...   \n",
       "5779   01/22/2020  https://finance.detik.com/fintech/d-4868943/lo...   \n",
       "...           ...                                                ...   \n",
       "89764  01/18/2020  https://travel.detik.com/fototravel/d-4864101/...   \n",
       "89932  04/03/2020  https://travel.detik.com/travel-news/d-4963492...   \n",
       "90206  06/03/2020  https://travel.detik.com/travel-news/d-5039514...   \n",
       "90444  04/14/2020  https://travel.detik.com/fototravel/d-4977157/...   \n",
       "90922  04/29/2020  https://travel.detik.com/galeri-foto/d-4995695...   \n",
       "\n",
       "                                                   title category  word_count  \\\n",
       "1906   Blak-blakan Kartu Pra Kerja dan 'Nepotisme' de...  finance           9   \n",
       "3299   Menteri Perdagangan Buka Kartu Stok Sembako Sa...  finance           8   \n",
       "3732             IHSG Diperkirakan Melemah di Awal Pekan  finance           6   \n",
       "5613                     Harga Emas Antam Turun Rp 3.000  finance           6   \n",
       "5779     Lokasi Kantor Jadi Syarat Pinjol Dapat Izin OJK  finance           8   \n",
       "...                                                  ...      ...         ...   \n",
       "89764  Aksi Para Penunggang Kuda Menerobos Kobaran Ap...   travel           9   \n",
       "89932  Rasakan Kenyamanan Work From Hotel di Fraser R...   travel           9   \n",
       "90206  New Normal, VW Cabrio Borobudur Siap Sambut Wi...   travel           8   \n",
       "90444  5 Negara yang Diprediksi Paling Cepat Bangkit ...   travel           9   \n",
       "90922         Keindahan Musim Semi yang Dirundung Corona   travel           6   \n",
       "\n",
       "       char_count  \n",
       "1906           62  \n",
       "3299           55  \n",
       "3732           39  \n",
       "5613           31  \n",
       "5779           47  \n",
       "...           ...  \n",
       "89764          58  \n",
       "89932          62  \n",
       "90206          53  \n",
       "90444          57  \n",
       "90922          42  \n",
       "\n",
       "[126 rows x 6 columns]"
      ]
     },
     "execution_count": 8,
     "metadata": {},
     "output_type": "execute_result"
    }
   ],
   "source": [
    "# Is there any duplicated rows?\n",
    "df[df['title'].duplicated()]"
   ]
  },
  {
   "cell_type": "code",
   "execution_count": 9,
   "id": "abaf57e8-2f83-447a-9687-c71c1e83faa6",
   "metadata": {},
   "outputs": [
    {
     "data": {
      "text/plain": [
       "126"
      ]
     },
     "execution_count": 9,
     "metadata": {},
     "output_type": "execute_result"
    }
   ],
   "source": [
    "len(df[df['title'].duplicated()])"
   ]
  },
  {
   "cell_type": "markdown",
   "id": "3ee18785-004f-458e-9d56-a69f626850fd",
   "metadata": {},
   "source": [
    "# Preprocessing"
   ]
  },
  {
   "cell_type": "markdown",
   "id": "ae89db11-5000-4a0b-8f46-2ebb0ab5973e",
   "metadata": {},
   "source": [
    "## Remove some label"
   ]
  },
  {
   "cell_type": "code",
   "execution_count": 10,
   "id": "e6deb6eb-fa65-45fa-875b-dacb9649054f",
   "metadata": {},
   "outputs": [
    {
     "data": {
      "text/plain": [
       "finance    14168\n",
       "travel      6466\n",
       "inet        5640\n",
       "health      4919\n",
       "oto         4383\n",
       "food        4315\n",
       "sport       2436\n",
       "Name: category, dtype: int64"
      ]
     },
     "execution_count": 10,
     "metadata": {},
     "output_type": "execute_result"
    }
   ],
   "source": [
    "# I will delete \"news\" and \"hot\" category to remove any overlapping category\n",
    "df.drop(df[df.category == 'news'].index, inplace=True)\n",
    "df.drop(df[df.category == 'hot'].index, inplace=True)\n",
    "\n",
    "# See category stats\n",
    "df['category'].value_counts()"
   ]
  },
  {
   "cell_type": "markdown",
   "id": "040eba71-43c7-48e8-bf21-488315c3ceb7",
   "metadata": {},
   "source": [
    "## Remove duplicates"
   ]
  },
  {
   "cell_type": "code",
   "execution_count": 11,
   "id": "f63fde09-3b05-40a2-a88e-1d8f71441cb6",
   "metadata": {},
   "outputs": [
    {
     "data": {
      "text/plain": [
       "0                           Kemnaker Awasi TKA di Meikarta\n",
       "1                        BNI Digitalkan BNI Java Jazz 2020\n",
       "2        Terbang ke Australia, Edhy Prabowo Mau Genjot ...\n",
       "3        OJK Siapkan Stimulus Ekonomi Antisipasi Dampak...\n",
       "4        Saran Buat Anies-RK yang Mangkir Rapat Banjir ...\n",
       "                               ...                        \n",
       "91012    Ketumpahan Air Panas di Pesawat, Kamu Bisa Tun...\n",
       "91013    Foto: Bali & 9 Destinasi Paling Instagramable ...\n",
       "91014    Game Bikin Turis Ini Liburan ke Jepang untuk.....\n",
       "91015    Sekeluarga Didepak dari Pesawat, Maskapai Bila...\n",
       "91016    Kapal Raib di Segitiga Bermuda, Nyaris Seabad ...\n",
       "Name: title, Length: 42264, dtype: object"
      ]
     },
     "execution_count": 11,
     "metadata": {},
     "output_type": "execute_result"
    }
   ],
   "source": [
    "df.drop(df[df['title'].duplicated()].index, inplace=True)\n",
    "df['title']"
   ]
  },
  {
   "cell_type": "markdown",
   "id": "7753b87b-93a1-4e0e-8c23-d30889063ab7",
   "metadata": {},
   "source": [
    "## Cleaning Text"
   ]
  },
  {
   "cell_type": "code",
   "execution_count": 12,
   "id": "c6cf25d3-e633-4895-89f2-258eeaef15b2",
   "metadata": {},
   "outputs": [],
   "source": [
    "# Cleaning\n",
    "def cleaning(text):\n",
    "  # Case folding\n",
    "  text = text.lower() \n",
    "  # Trim text\n",
    "  text = text.strip()\n",
    "  # Remove punctuations, special characters, and double whitespace\n",
    "  text = re.compile('<.*?>').sub('', text) \n",
    "  text = re.compile('[%s]' % re.escape(string.punctuation)).sub(' ', text)\n",
    "  text = re.sub('\\s+', ' ', text)\n",
    "  # Number removal\n",
    "  text = re.sub(r'\\[[0-9]*\\]', ' ', text) \n",
    "  text = re.sub(r'[^\\w\\s]', '', str(text).lower().strip())\n",
    "  # Remove number and whitespaces\n",
    "  text = re.sub(r'\\d', ' ', text)\n",
    "  text = re.sub(r'\\s+', ' ', text)\n",
    "\n",
    "  return text"
   ]
  },
  {
   "cell_type": "code",
   "execution_count": 13,
   "id": "14639954-438e-42da-8463-9bbfb9a7be28",
   "metadata": {},
   "outputs": [
    {
     "data": {
      "text/plain": [
       "0                           kemnaker awasi tka di meikarta\n",
       "1                            bni digitalkan bni java jazz \n",
       "2        terbang ke australia edhy prabowo mau genjot b...\n",
       "3        ojk siapkan stimulus ekonomi antisipasi dampak...\n",
       "4        saran buat anies rk yang mangkir rapat banjir ...\n",
       "                               ...                        \n",
       "91012    ketumpahan air panas di pesawat kamu bisa tunt...\n",
       "91013      foto bali destinasi paling instagramable tahun \n",
       "91014    game bikin turis ini liburan ke jepang untuk c...\n",
       "91015    sekeluarga didepak dari pesawat maskapai bilan...\n",
       "91016    kapal raib di segitiga bermuda nyaris seabad b...\n",
       "Name: title, Length: 42264, dtype: object"
      ]
     },
     "execution_count": 13,
     "metadata": {},
     "output_type": "execute_result"
    }
   ],
   "source": [
    "df['title'] = df['title'].apply(lambda x: cleaning(x))\n",
    "df['title']"
   ]
  },
  {
   "cell_type": "markdown",
   "id": "2bcea1d5-4206-4b5e-8a12-b4d90ff80b72",
   "metadata": {},
   "source": [
    "## Tokenizing"
   ]
  },
  {
   "cell_type": "code",
   "execution_count": 14,
   "id": "a2781f20-d881-4312-b0d5-8adc95f3ca42",
   "metadata": {},
   "outputs": [
    {
     "data": {
      "text/plain": [
       "0                     [kemnaker, awasi, tka, di, meikarta]\n",
       "1                       [bni, digitalkan, bni, java, jazz]\n",
       "2        [terbang, ke, australia, edhy, prabowo, mau, g...\n",
       "3        [ojk, siapkan, stimulus, ekonomi, antisipasi, ...\n",
       "4        [saran, buat, anies, rk, yang, mangkir, rapat,...\n",
       "                               ...                        \n",
       "91012    [ketumpahan, air, panas, di, pesawat, kamu, bi...\n",
       "91013    [foto, bali, destinasi, paling, instagramable,...\n",
       "91014    [game, bikin, turis, ini, liburan, ke, jepang,...\n",
       "91015    [sekeluarga, didepak, dari, pesawat, maskapai,...\n",
       "91016    [kapal, raib, di, segitiga, bermuda, nyaris, s...\n",
       "Name: tokens, Length: 42264, dtype: object"
      ]
     },
     "execution_count": 14,
     "metadata": {},
     "output_type": "execute_result"
    }
   ],
   "source": [
    "from nltk.tokenize import word_tokenize\n",
    "\n",
    "df['tokens'] = df['title'].apply(lambda x: word_tokenize(x))\n",
    "df['tokens']"
   ]
  },
  {
   "cell_type": "markdown",
   "id": "c949f60f-fa96-433c-aba4-737f6dd2702e",
   "metadata": {},
   "source": [
    "## Stopwords removal"
   ]
  },
  {
   "cell_type": "code",
   "execution_count": 15,
   "id": "c953e841-6fbc-44fd-8c27-2d189b71a2f2",
   "metadata": {},
   "outputs": [
    {
     "data": {
      "text/plain": [
       "0                         [kemnaker, awasi, tka, meikarta]\n",
       "1                       [bni, digitalkan, bni, java, jazz]\n",
       "2        [terbang, australia, edhy, prabowo, genjot, bu...\n",
       "3        [ojk, siapkan, stimulus, ekonomi, antisipasi, ...\n",
       "4          [saran, anies, rk, mangkir, rapat, banjir, dpr]\n",
       "                               ...                        \n",
       "91012    [ketumpahan, air, panas, pesawat, tuntut, mask...\n",
       "91013               [foto, bali, destinasi, instagramable]\n",
       "91014    [game, bikin, turis, liburan, jepang, cari, ya...\n",
       "91015    [sekeluarga, didepak, pesawat, maskapai, bilan...\n",
       "91016     [kapal, raib, segitiga, bermuda, seabad, ketemu]\n",
       "Name: tokens, Length: 42264, dtype: object"
      ]
     },
     "execution_count": 15,
     "metadata": {},
     "output_type": "execute_result"
    }
   ],
   "source": [
    "from nltk.corpus import stopwords \n",
    "from nltk.tokenize import word_tokenize\n",
    "from itertools import chain\n",
    "\n",
    "stop_words = set(chain(stopwords.words('indonesian'), stopwords.words('english')))\n",
    "\n",
    "df['tokens'].apply(lambda x: [w for w in x if not w in stop_words])"
   ]
  },
  {
   "cell_type": "markdown",
   "id": "3260a3d2-7c5f-4809-8b36-d73e60c169de",
   "metadata": {},
   "source": [
    "## Lemmatizer"
   ]
  },
  {
   "cell_type": "code",
   "execution_count": 16,
   "id": "03ea5dde-6595-40b6-a770-c866005fe6e7",
   "metadata": {},
   "outputs": [
    {
     "name": "stderr",
     "output_type": "stream",
     "text": [
      "100%|██████████████████████████████████████████████████████████████████████████| 42264/42264 [00:04<00:00, 8733.36it/s]\n"
     ]
    },
    {
     "data": {
      "text/plain": [
       "0                      [kemnaker, awas, tka, di, meikarta]\n",
       "1                          [bni, digital, bni, java, jazz]\n",
       "2        [terbang, ke, australia, edhy, prabowo, mau, g...\n",
       "3        [ojk, siap, stimulus, ekonomi, antisipasi, dam...\n",
       "4        [saran, buat, anies, rk, yang, mangkir, rapat,...\n",
       "                               ...                        \n",
       "91012    [tumpah, air, panas, di, pesawat, kamu, bisa, ...\n",
       "91013    [foto, bal, destinasi, paling, instagramable, ...\n",
       "91014    [game, bikin, turis, ini, libur, ke, jepang, u...\n",
       "91015    [keluarga, depak, dari, pesawat, maskapai, bil...\n",
       "91016    [kapal, raib, di, segitiga, muda, nyaris, abad...\n",
       "Name: tokens, Length: 42264, dtype: object"
      ]
     },
     "execution_count": 16,
     "metadata": {},
     "output_type": "execute_result"
    }
   ],
   "source": [
    "from Sastrawi.Stemmer.StemmerFactory import StemmerFactory\n",
    "\n",
    "factory = StemmerFactory()\n",
    "stemmer = factory.create_stemmer()\n",
    " \n",
    "df['tokens'] = df['tokens'].progress_apply(lambda x: stemmer.stem(' '.join(x)).split(' '))\n",
    "df['tokens']"
   ]
  },
  {
   "cell_type": "markdown",
   "id": "f8bdf2e4-cdf3-4b37-8378-21807cb37a1b",
   "metadata": {},
   "source": [
    "# Split Data"
   ]
  },
  {
   "cell_type": "code",
   "execution_count": 17,
   "id": "b0b76a4f-41fd-462b-bca2-f37e8a712d6d",
   "metadata": {},
   "outputs": [],
   "source": [
    "from sklearn.model_selection import train_test_split\n",
    "\n",
    "df['joined_tokens'] = df['tokens'].apply(lambda x: ' '.join(x))\n",
    "X_train, X_test, y_train, y_test = train_test_split(df['joined_tokens'], df['category'], test_size=0.3, random_state=42)"
   ]
  },
  {
   "cell_type": "markdown",
   "id": "15c5b9ce-3c37-4c4b-8131-f609e1cf7eb4",
   "metadata": {},
   "source": [
    "# Feature Extraction"
   ]
  },
  {
   "cell_type": "code",
   "execution_count": 1,
   "id": "712997ac-fba8-477e-b428-a74495b8883b",
   "metadata": {},
   "outputs": [
    {
     "name": "stdout",
     "output_type": "stream",
     "text": [
      "Train size:  (29584, 6379)\n",
      "Test size:  (12680, 6379)\n"
     ]
    }
   ],
   "source": [
    "from sklearn.feature_extraction.text import TfidfVectorizer\n",
    "\n",
    "tfidf_vectorizer = TfidfVectorizer(use_idf=True, min_df=0.0001, max_df=0.02, lowercase=False)\n",
    "\n",
    "X_train_vectors_tfidf = tfidf_vectorizer.fit_transform(X_train) \n",
    "X_test_vectors_tfidf = tfidf_vectorizer.transform(X_test)\n",
    "\n",
    "print('Train size: ', X_train_vectors_tfidf.shape)\n",
    "print('Test size: ', X_test_vectors_tfidf.shape)"
   ]
  },
  {
   "cell_type": "markdown",
   "id": "08902455-8247-4e0e-ad95-ef6931477cb2",
   "metadata": {},
   "source": [
    "# Resampling"
   ]
  },
  {
   "cell_type": "code",
   "execution_count": null,
   "id": "3ab7ebf2-085a-4ec8-adb2-e370902fe7f1",
   "metadata": {},
   "outputs": [],
   "source": [
    "y_train.value_counts()"
   ]
  },
  {
   "cell_type": "code",
   "execution_count": null,
   "id": "8423a36d-978b-48e8-951f-d1f44db83c23",
   "metadata": {},
   "outputs": [],
   "source": [
    "from imblearn.over_sampling import SMOTE\n",
    "\n",
    "X_train_resampled, y_train_resampled = SMOTE(random_state=42).fit_resample(X_train_vectors_tfidf, y_train)"
   ]
  },
  {
   "cell_type": "markdown",
   "id": "d25c7b9f-21c8-483d-8208-613a092eec29",
   "metadata": {},
   "source": [
    "# Training Model"
   ]
  },
  {
   "cell_type": "code",
   "execution_count": 19,
   "id": "97c40071-ab84-4f06-bc22-2183c3a37e1b",
   "metadata": {},
   "outputs": [],
   "source": [
    "from sklearn.svm import SVC\n",
    "from sklearn.metrics import accuracy_score, precision_score, recall_score, f1_score"
   ]
  },
  {
   "cell_type": "code",
   "execution_count": 72,
   "id": "e049d1e8-11ed-4be5-a225-6b8a5655562d",
   "metadata": {},
   "outputs": [
    {
     "data": {
      "text/plain": [
       "SVC(probability=True)"
      ]
     },
     "execution_count": 72,
     "metadata": {},
     "output_type": "execute_result"
    }
   ],
   "source": [
    "clf = SVC(kernel='rbf', probability=True)\n",
    "clf.fit(X_train_vectors_tfidf, y_train)"
   ]
  },
  {
   "cell_type": "code",
   "execution_count": 73,
   "id": "3e190870-8b02-480b-a575-f79b65e45d1f",
   "metadata": {},
   "outputs": [],
   "source": [
    "y_pred = clf.predict(X_test_vectors_tfidf)"
   ]
  },
  {
   "cell_type": "code",
   "execution_count": 74,
   "id": "80c949ce-ef83-4709-a0ad-8dc1417a7d52",
   "metadata": {},
   "outputs": [
    {
     "name": "stdout",
     "output_type": "stream",
     "text": [
      "Accuracy score :  0.8504731861198738\n",
      "Precision score :  0.852891088269706\n",
      "Recall score :  0.8504731861198738\n",
      "F1 score :  0.8493659692147594\n"
     ]
    }
   ],
   "source": [
    "print('Accuracy score : ', accuracy_score(y_test, y_pred))\n",
    "print('Precision score : ', precision_score(y_test, y_pred, average='weighted'))\n",
    "print('Recall score : ', recall_score(y_test, y_pred, average='weighted'))\n",
    "print('F1 score : ', f1_score(y_test, y_pred, average='weighted'))"
   ]
  },
  {
   "cell_type": "markdown",
   "id": "a796041f-0c12-412c-b9d2-ed60ebc1c568",
   "metadata": {},
   "source": [
    "# Result"
   ]
  },
  {
   "cell_type": "code",
   "execution_count": 23,
   "id": "b1de097c-4e0f-4e9b-abcc-7809e049fd3c",
   "metadata": {},
   "outputs": [
    {
     "data": {
      "image/png": "[encoded data removed]",
      "text/plain": [
       "<Figure size 640x480 with 2 Axes>"
      ]
     },
     "metadata": {},
     "output_type": "display_data"
    }
   ],
   "source": [
    "from sklearn.metrics import ConfusionMatrixDisplay\n",
    "from matplotlib import pyplot as plt\n",
    "\n",
    "ConfusionMatrixDisplay.from_predictions(y_test, y_pred, cmap='Blues')\n",
    "plt.show()"
   ]
  },
  {
   "cell_type": "code",
   "execution_count": 24,
   "id": "b3ea8b80-0ca2-4dd5-80bc-2ace29abcf00",
   "metadata": {},
   "outputs": [
    {
     "name": "stdout",
     "output_type": "stream",
     "text": [
      "              precision    recall  f1-score   support\n",
      "\n",
      "     finance       0.84      0.94      0.89      4317\n",
      "        food       0.87      0.79      0.83      1229\n",
      "      health       0.81      0.82      0.82      1446\n",
      "        inet       0.86      0.81      0.83      1652\n",
      "         oto       0.91      0.73      0.81      1304\n",
      "       sport       0.94      0.82      0.87       726\n",
      "      travel       0.83      0.84      0.84      2006\n",
      "\n",
      "    accuracy                           0.85     12680\n",
      "   macro avg       0.86      0.82      0.84     12680\n",
      "weighted avg       0.85      0.85      0.85     12680\n",
      "\n"
     ]
    }
   ],
   "source": [
    "from sklearn.metrics import classification_report\n",
    "\n",
    "print(classification_report(y_test, y_pred))"
   ]
  },
  {
   "cell_type": "markdown",
   "id": "70cd4bce-19c3-44ea-9a0a-a041465c1c64",
   "metadata": {},
   "source": [
    "# Export Model"
   ]
  },
  {
   "cell_type": "code",
   "execution_count": 123,
   "id": "1e835417-9977-4ffb-ac60-925ab7388243",
   "metadata": {},
   "outputs": [],
   "source": [
    "import pickle\n",
    "\n",
    "with open('../model/model.pkl', 'wb') as f:\n",
    "    pickle.dump(clf, f)"
   ]
  },
  {
   "cell_type": "code",
   "execution_count": 45,
   "id": "554d5459-4abb-4cb2-81e8-91fa490271f1",
   "metadata": {},
   "outputs": [],
   "source": [
    "with open('../model/vectorizer.pkl', 'wb') as f:\n",
    "    pickle.dump(tfidf_vectorizer, f)"
   ]
  },
  {
   "cell_type": "markdown",
   "id": "a11a2fb3-ee2f-4bf2-b638-2375147fca7f",
   "metadata": {},
   "source": [
    "# Export Data"
   ]
  },
  {
   "cell_type": "code",
   "execution_count": 27,
   "id": "083e1ca5-6a7a-4fa9-82c0-4b160437c084",
   "metadata": {},
   "outputs": [],
   "source": [
    "df.to_csv('../dataset/train_preprocess.csv')"
   ]
  },
  {
   "cell_type": "markdown",
   "id": "b8f3c7a8-7162-4e98-adb3-f42afc477857",
   "metadata": {},
   "source": [
    "# Test on Sample Text"
   ]
  },
  {
   "cell_type": "code",
   "execution_count": 145,
   "id": "91dfc9e9-c6cf-4498-98ab-0a98cbdf7dee",
   "metadata": {},
   "outputs": [],
   "source": [
    "texts = [\n",
    "    \"Wishnutama Mau Sewa Influencer Asing, Pakai BTS?\",\n",
    "    \"7 Manfaat Konsumsi Kurma Bagi Tubuh Saat Berbuka Puasa\",\n",
    "    \"Mobil Terbakar karena Simpan Power Bank\",\n",
    "    \"Video: Huawei Watch GT2e Resmi Hadir di Indonesia,inet\",\n",
    "    \"MA Batalkan Kenaikan Iuran, BPJS Kesehatan Siap Kembalikan Selisih Pembayaran\",\n",
    "    \"Kylian Mbappe akan segera meninggalkan Real Madrid pada bursa transfer musim dingin\",\n",
    "    \"Charles Leclerc masih kesulitan dalam mengangkat performa Ferrari pada musim ini\",\n",
    "    \"Diumumkan Siang Ini, Ekonom Perkirakan Bank Indonesia Tahan Suku Bunga Acuan\",\n",
    "    \"Mau Liburan 5 Hari  ke Jepang Lihat Sakura? Yuk Simak Itinerary-nya\"\n",
    "]"
   ]
  },
  {
   "cell_type": "code",
   "execution_count": 146,
   "id": "7c602703-5a1f-40b7-8d75-26d8577c47a2",
   "metadata": {},
   "outputs": [
    {
     "data": {
      "text/plain": [
       "<1x6379 sparse matrix of type '<class 'numpy.float64'>'\n",
       "\twith 6 stored elements in Compressed Sparse Row format>"
      ]
     },
     "execution_count": 146,
     "metadata": {},
     "output_type": "execute_result"
    }
   ],
   "source": [
    "text_raw = texts[-1]\n",
    "text = cleaning(text_raw)\n",
    "text = tfidf_vectorizer.transform([text]) \n",
    "text"
   ]
  },
  {
   "cell_type": "code",
   "execution_count": 147,
   "id": "c4688066-bdd8-413a-a5e1-f2dc6f8ff084",
   "metadata": {},
   "outputs": [
    {
     "data": {
      "text/plain": [
       "array([0.00699436, 0.00327168, 0.00127608, 0.00186845, 0.00703511,\n",
       "       0.00153522, 0.97801909])"
      ]
     },
     "execution_count": 147,
     "metadata": {},
     "output_type": "execute_result"
    }
   ],
   "source": [
    "sample_predict = clf.predict(text)\n",
    "output = sample_predict[0]\n",
    "\n",
    "probability = clf.predict_proba(text)\n",
    "output_probability = \"{:.5f}\".format(float(probability[0][probability.argmax()]))\n",
    "probability[0]"
   ]
  },
  {
   "cell_type": "code",
   "execution_count": 148,
   "id": "98c3996e-1eba-40b2-ac18-b435ef884996",
   "metadata": {},
   "outputs": [
    {
     "data": {
      "text/plain": [
       "{'text': 'Mau Liburan 5 Hari  ke Jepang Lihat Sakura? Yuk Simak Itinerary-nya',\n",
       " 'class': 'travel',\n",
       " 'score': '0.97802'}"
      ]
     },
     "execution_count": 148,
     "metadata": {},
     "output_type": "execute_result"
    }
   ],
   "source": [
    "result = {'text': text_raw, 'class': output, 'score': output_probability}\n",
    "result"
   ]
  },
  {
   "cell_type": "code",
   "execution_count": 149,
   "id": "f8c0cb33-b128-412f-b801-ba4ee16f8257",
   "metadata": {},
   "outputs": [
    {
     "data": {
      "text/plain": [
       "array(['finance', 'food', 'health', 'inet', 'oto', 'sport', 'travel'],\n",
       "      dtype=object)"
      ]
     },
     "execution_count": 149,
     "metadata": {},
     "output_type": "execute_result"
    }
   ],
   "source": [
    "df['category'].unique()"
   ]
  },
  {
   "cell_type": "code",
   "execution_count": null,
   "id": "dd1b2d22-8348-4508-8d67-e8a9cecb3cdd",
   "metadata": {},
   "outputs": [],
   "source": []
  }
 ],
 "metadata": {
  "kernelspec": {
   "display_name": "Python 3 (ipykernel)",
   "language": "python",
   "name": "python3"
  },
  "language_info": {
   "codemirror_mode": {
    "name": "ipython",
    "version": 3
   },
   "file_extension": ".py",
   "mimetype": "text/x-python",
   "name": "python",
   "nbconvert_exporter": "python",
   "pygments_lexer": "ipython3",
   "version": "3.9.13"
  }
 },
 "nbformat": 4,
 "nbformat_minor": 5
}
