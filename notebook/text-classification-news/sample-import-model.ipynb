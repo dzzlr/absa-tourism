{
 "cells": [
  {
   "cell_type": "code",
   "execution_count": 27,
   "id": "c0aeca47-751a-4b41-8aab-6db284db81fe",
   "metadata": {},
   "outputs": [],
   "source": [
    "import json\n",
    "import re, string\n",
    "import pandas as pd\n",
    "from tqdm import tqdm\n",
    "import pickle\n",
    "\n",
    "import nltk\n",
    "from nltk.tokenize import word_tokenize\n",
    "from nltk.corpus import stopwords \n",
    "from nltk.tokenize import word_tokenize\n",
    "from itertools import chain\n",
    "\n",
    "from Sastrawi.Stemmer.StemmerFactory import StemmerFactory"
   ]
  },
  {
   "cell_type": "code",
   "execution_count": 2,
   "id": "82c00602-27ce-4c59-a290-1f8d310a89fe",
   "metadata": {},
   "outputs": [],
   "source": [
    "with open('../model/model.pkl', 'rb') as f:\n",
    "    model = pickle.load(f)"
   ]
  },
  {
   "cell_type": "code",
   "execution_count": 3,
   "id": "cd54057b-da08-4c4d-bb7f-777ebcdd3fc0",
   "metadata": {},
   "outputs": [],
   "source": [
    "with open('../model/vectorizer.pkl', 'rb') as f:\n",
    "    vectorizer = pickle.load(f)"
   ]
  },
  {
   "cell_type": "code",
   "execution_count": 8,
   "id": "bd45af2a-71d6-4b46-ada6-951619fbae0f",
   "metadata": {},
   "outputs": [],
   "source": [
    "def cleaning(text, remove_stop_words=True, lemmatize_words=True):\n",
    "    text = text.lower() # Case folding\n",
    "    text = text.strip() # Trim text\n",
    "    # Remove punctuations, special characters, and double whitespace\n",
    "    text = re.compile('<.*?>').sub('', text) \n",
    "    text = re.compile('[%s]' % re.escape(string.punctuation)).sub(' ', text)\n",
    "    text = re.sub('\\s+', ' ', text)\n",
    "    # Number removal\n",
    "    text = re.sub(r'\\[[0-9]*\\]', ' ', text) \n",
    "    text = re.sub(r'[^\\w\\s]', '', str(text).lower().strip())\n",
    "    # Remove number and whitespaces\n",
    "    text = re.sub(r'\\d', ' ', text)\n",
    "    text = re.sub(r'\\s+', ' ', text)\n",
    "    \n",
    "    if remove_stop_words:\n",
    "        # load stopwords\n",
    "        stop_words = set(chain(stopwords.words('indonesian'), stopwords.words('english')))\n",
    "        text = text.split()\n",
    "        text = [w for w in text if not w in stop_words]\n",
    "        text = \" \".join(text)\n",
    "    \n",
    "    if lemmatize_words:\n",
    "        factory = StemmerFactory()\n",
    "        stemmer = factory.create_stemmer()\n",
    "        \n",
    "        text = text.split()\n",
    "        lemmatized_words = stemmer.stem(' '.join(text)).split(' ')\n",
    "        text = \" \".join(lemmatized_words)\n",
    "\n",
    "    return text"
   ]
  },
  {
   "cell_type": "code",
   "execution_count": 9,
   "id": "bd773511-bf5e-4789-b738-bbed233bdcf0",
   "metadata": {},
   "outputs": [],
   "source": [
    "texts = [\n",
    "    \"Wishnutama Mau Sewa Influencer Asing, Pakai BTS?\",\n",
    "    \"7 Manfaat Konsumsi Kurma Bagi Tubuh Saat Berbuka Puasa\",\n",
    "    \"Mobil Terbakar karena Simpan Power Bank\",\n",
    "    \"Video: Huawei Watch GT2e Resmi Hadir di Indonesia,inet\",\n",
    "    \"MA Batalkan Kenaikan Iuran, BPJS Kesehatan Siap Kembalikan Selisih Pembayaran\",\n",
    "    \"Kylian Mbappe akan segera meninggalkan Real Madrid pada bursa transfer musim dingin\",\n",
    "    \"Charles Leclerc masih kesulitan dalam mengangkat performa Ferrari pada musim ini\",\n",
    "    \"Diumumkan Siang Ini, Ekonom Perkirakan Bank Indonesia Tahan Suku Bunga Acuan\",\n",
    "    \"Mau Liburan 5 Hari  ke Jepang Lihat Sakura? Yuk Simak Itinerary-nya\"\n",
    "]"
   ]
  },
  {
   "cell_type": "code",
   "execution_count": 18,
   "id": "0ffb4292-17e8-450e-bb13-34e4d2d9f5c3",
   "metadata": {},
   "outputs": [],
   "source": [
    "LABEL = ['finance', 'food', 'health', 'inet', 'oto', 'sport', 'travel']"
   ]
  },
  {
   "cell_type": "code",
   "execution_count": 35,
   "id": "22c87968-14b4-43c9-8639-93a38bcc8d6a",
   "metadata": {},
   "outputs": [
    {
     "data": {
      "text/plain": [
       "<1x6379 sparse matrix of type '<class 'numpy.float64'>'\n",
       "\twith 7 stored elements in Compressed Sparse Row format>"
      ]
     },
     "execution_count": 35,
     "metadata": {},
     "output_type": "execute_result"
    }
   ],
   "source": [
    "text_raw = texts[-1]\n",
    "text = cleaning(text_raw)\n",
    "text = vectorizer.transform([text]) \n",
    "text"
   ]
  },
  {
   "cell_type": "code",
   "execution_count": 36,
   "id": "85ce3fa0-26d3-4cd2-a97b-f84cb8aeea82",
   "metadata": {},
   "outputs": [
    {
     "data": {
      "text/plain": [
       "array([1.27317151e-03, 3.48803812e-04, 8.97906605e-05, 1.76985147e-04,\n",
       "       9.59337007e-04, 1.87942393e-04, 9.96963969e-01])"
      ]
     },
     "execution_count": 36,
     "metadata": {},
     "output_type": "execute_result"
    }
   ],
   "source": [
    "sample_predict = model.predict(text)\n",
    "output = sample_predict[0]\n",
    "\n",
    "probability = model.predict_proba(text)\n",
    "output_probability = \"{:.5f}\".format(float(probability[0][probability.argmax()]))\n",
    "probability[0]"
   ]
  },
  {
   "cell_type": "code",
   "execution_count": 41,
   "id": "af59c01d-e936-43ab-8bda-a059a6fed376",
   "metadata": {},
   "outputs": [
    {
     "data": {
      "text/plain": [
       "[{'label': 'finance', 'score': 0.001},\n",
       " {'label': 'food', 'score': 0.0},\n",
       " {'label': 'health', 'score': 0.0},\n",
       " {'label': 'inet', 'score': 0.0},\n",
       " {'label': 'oto', 'score': 0.001},\n",
       " {'label': 'sport', 'score': 0.0},\n",
       " {'label': 'travel', 'score': 0.997}]"
      ]
     },
     "execution_count": 41,
     "metadata": {},
     "output_type": "execute_result"
    }
   ],
   "source": [
    "result = []\n",
    "prob = probability[0]\n",
    "for i in range(len(LABEL)):\n",
    "    each_label = {'label': LABEL[i], 'score': float(\"{:.3f}\".format(prob[i]))}\n",
    "    result.append(each_label)\n",
    "result"
   ]
  },
  {
   "cell_type": "code",
   "execution_count": 42,
   "id": "64145c3c-6639-4dab-a6d3-c4f66717c449",
   "metadata": {},
   "outputs": [
    {
     "data": {
      "text/plain": [
       "'{\"text\": \"Mau Liburan 5 Hari  ke Jepang Lihat Sakura? Yuk Simak Itinerary-nya\", \"result\": [{\"label\": \"finance\", \"score\": 0.001}, {\"label\": \"food\", \"score\": 0.0}, {\"label\": \"health\", \"score\": 0.0}, {\"label\": \"inet\", \"score\": 0.0}, {\"label\": \"oto\", \"score\": 0.001}, {\"label\": \"sport\", \"score\": 0.0}, {\"label\": \"travel\", \"score\": 0.997}]}'"
      ]
     },
     "execution_count": 42,
     "metadata": {},
     "output_type": "execute_result"
    }
   ],
   "source": [
    "output = {'text': text_raw, 'result': result}\n",
    "json.dumps(output)"
   ]
  },
  {
   "cell_type": "code",
   "execution_count": null,
   "id": "b5935f48-9b30-40af-ab82-be389afec7a5",
   "metadata": {},
   "outputs": [],
   "source": []
  }
 ],
 "metadata": {
  "kernelspec": {
   "display_name": "Python 3 (ipykernel)",
   "language": "python",
   "name": "python3"
  },
  "language_info": {
   "codemirror_mode": {
    "name": "ipython",
    "version": 3
   },
   "file_extension": ".py",
   "mimetype": "text/x-python",
   "name": "python",
   "nbconvert_exporter": "python",
   "pygments_lexer": "ipython3",
   "version": "3.9.13"
  }
 },
 "nbformat": 4,
 "nbformat_minor": 5
}
